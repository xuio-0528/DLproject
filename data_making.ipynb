{
 "cells": [
  {
   "cell_type": "code",
   "execution_count": 1,
   "metadata": {},
   "outputs": [
    {
     "ename": "ModuleNotFoundError",
     "evalue": "No module named 'datasets'",
     "output_type": "error",
     "traceback": [
      "\u001b[0;31m---------------------------------------------------------------------------\u001b[0m",
      "\u001b[0;31mModuleNotFoundError\u001b[0m                       Traceback (most recent call last)",
      "\u001b[1;32m/Users/gim-eungi/Documents/4-2/딥러닝/최종과제/DLproject/data_making.ipynb 셀 1\u001b[0m line \u001b[0;36m1\n\u001b[0;32m----> <a href='vscode-notebook-cell:/Users/gim-eungi/Documents/4-2/%E1%84%83%E1%85%B5%E1%86%B8%E1%84%85%E1%85%A5%E1%84%82%E1%85%B5%E1%86%BC/%E1%84%8E%E1%85%AC%E1%84%8C%E1%85%A9%E1%86%BC%E1%84%80%E1%85%AA%E1%84%8C%E1%85%A6/DLproject/data_making.ipynb#W0sZmlsZQ%3D%3D?line=0'>1</a>\u001b[0m \u001b[39mfrom\u001b[39;00m \u001b[39mdatasets\u001b[39;00m \u001b[39mimport\u001b[39;00m load_dataset\n\u001b[1;32m      <a href='vscode-notebook-cell:/Users/gim-eungi/Documents/4-2/%E1%84%83%E1%85%B5%E1%86%B8%E1%84%85%E1%85%A5%E1%84%82%E1%85%B5%E1%86%BC/%E1%84%8E%E1%85%AC%E1%84%8C%E1%85%A9%E1%86%BC%E1%84%80%E1%85%AA%E1%84%8C%E1%85%A6/DLproject/data_making.ipynb#W0sZmlsZQ%3D%3D?line=1'>2</a>\u001b[0m \u001b[39mimport\u001b[39;00m \u001b[39mjson\u001b[39;00m \n\u001b[1;32m      <a href='vscode-notebook-cell:/Users/gim-eungi/Documents/4-2/%E1%84%83%E1%85%B5%E1%86%B8%E1%84%85%E1%85%A5%E1%84%82%E1%85%B5%E1%86%BC/%E1%84%8E%E1%85%AC%E1%84%8C%E1%85%A9%E1%86%BC%E1%84%80%E1%85%AA%E1%84%8C%E1%85%A6/DLproject/data_making.ipynb#W0sZmlsZQ%3D%3D?line=2'>3</a>\u001b[0m \u001b[39mfrom\u001b[39;00m \u001b[39mtransformers\u001b[39;00m \u001b[39mimport\u001b[39;00m AutoTokenizer\n",
      "\u001b[0;31mModuleNotFoundError\u001b[0m: No module named 'datasets'"
     ]
    }
   ],
   "source": [
    "from datasets import load_dataset\n",
    "import json \n",
    "from transformers import AutoTokenizer\n",
    "from tqdm import tqdm\n",
    "\n",
    "print('시작')\n",
    "data = load_dataset('codeparrot/apps')\n",
    "tokenizer = AutoTokenizer.from_pretrained(\"microsoft/phi-1_5\")\n",
    "\n",
    "train = []\n",
    "test = []\n",
    "\n",
    "print('train 시작')\n",
    "\n",
    "for data_point in tqdm(data['train']):\n",
    "    try:\n",
    "      question = data_point['question']\n",
    "      if len(tokenizer(question).input_ids) > 512:\n",
    "          continue\n",
    "      inputs = json.loads(data_point['input_output'])['inputs']\n",
    "      output = json.loads(data_point['input_output'])['outputs']\n",
    "      cnt = 0\n",
    "      for solution in data_point['solutions']:\n",
    "          if cnt == 5:\n",
    "              break\n",
    "          if len(tokenizer(solution).input_ids) > 512:\n",
    "              continue\n",
    "          cnt +=1\n",
    "          train.append({'description' : question, 'solution' : solution, 'input' : inputs, 'output' : output})\n",
    "    except:\n",
    "        continue\n",
    "\n",
    "with open(\"apps_train.jsonl\" , encoding= \"utf-8\",mode=\"w\") as file:\n",
    "  for line in train:\n",
    "    file.write(json.dumps(line))\n",
    "    file.write('\\n')\n",
    "\n",
    "print('test 시작')\n",
    "cnt=0\n",
    "for data_point in tqdm(data['test']):\n",
    "    try:\n",
    "      question = data_point['question']\n",
    "      if len(tokenizer(question).input_ids) > 512:\n",
    "          continue\n",
    "      cnt+=1\n",
    "      inputs = data_point['input_output']['inputs']\n",
    "      output = data_point['input_output']['outpus']\n",
    "      test.append({'description' : question, 'solution' : \"\", 'input' : inputs, 'output' : output})\n",
    "    except:\n",
    "      continue\n",
    "print(cnt)\n",
    "with open(\"apps_test.jsonl\" , encoding= \"utf-8\",mode=\"w\") as file:\n",
    "    for line in test:\n",
    "        file.write(json.dumps(line))\n",
    "        file.write('\\n')\n",
    "    \n",
    "print('완료')"
   ]
  },
  {
   "cell_type": "code",
   "execution_count": null,
   "metadata": {},
   "outputs": [],
   "source": []
  }
 ],
 "metadata": {
  "kernelspec": {
   "display_name": "Python 3",
   "language": "python",
   "name": "python3"
  },
  "language_info": {
   "codemirror_mode": {
    "name": "ipython",
    "version": 3
   },
   "file_extension": ".py",
   "mimetype": "text/x-python",
   "name": "python",
   "nbconvert_exporter": "python",
   "pygments_lexer": "ipython3",
   "version": "3.10.13"
  }
 },
 "nbformat": 4,
 "nbformat_minor": 2
}
